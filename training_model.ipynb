{
 "cells": [
  {
   "cell_type": "code",
   "execution_count": 1,
   "metadata": {},
   "outputs": [],
   "source": [
    "import os\n",
    "import cv2\n",
    "import numpy as np\n",
    "import matplotlib.pyplot as plt\n",
    "\n",
    "from sklearn.preprocessing import LabelBinarizer\n",
    "from sklearn.metrics import classification_report\n",
    "from sklearn.model_selection import train_test_split\n",
    "\n",
    "from tensorflow.keras.layers import Input\n",
    "from tensorflow.keras.optimizers import Adam\n",
    "from tensorflow.keras.models import Sequential\n",
    "from tensorflow.keras.utils import to_categorical\n",
    "from tensorflow.keras.callbacks import ModelCheckpoint\n",
    "from tensorflow.keras.layers import Dropout, Flatten, Dense\n",
    "from tensorflow.keras.layers import Conv2D, Activation, MaxPooling2D\n",
    "from tensorflow.keras.preprocessing.image import ImageDataGenerator, load_img, img_to_array"
   ]
  },
  {
   "cell_type": "code",
   "execution_count": 2,
   "metadata": {},
   "outputs": [],
   "source": [
    "IMG_RES = 128\n",
    "INIT_LR = 1e-4\n",
    "EPOCHS = 20\n",
    "BS = 32\n",
    "\n",
    "DIRECTORY = './dataset/'\n",
    "CATEGORIES = [\"Mask\", \"No_Mask\"]"
   ]
  },
  {
   "cell_type": "code",
   "execution_count": 3,
   "metadata": {},
   "outputs": [
    {
     "name": "stderr",
     "output_type": "stream",
     "text": [
      "D:\\Programming\\Anaconda\\envs\\mask\\lib\\site-packages\\PIL\\Image.py:962: UserWarning: Palette images with Transparency expressed in bytes should be converted to RGBA images\n",
      "  warnings.warn(\n"
     ]
    }
   ],
   "source": [
    "data = []\n",
    "labels = []\n",
    "for category in CATEGORIES:\n",
    "    path = os.path.join(DIRECTORY, category)\n",
    "    for img in os.listdir(path):\n",
    "        img_path = os.path.join(path, img)\n",
    "        image = load_img(img_path)\n",
    "        image = img_to_array(image)\n",
    "        image = cv2.resize(image, (IMG_RES, IMG_RES))\n",
    "        image = cv2.cvtColor(image, cv2.COLOR_BGR2GRAY)\n",
    "\n",
    "        data.append(image)\n",
    "        labels.append(category)\n",
    "\n",
    "data = np.array(data) / 255.0\n",
    "data = np.reshape(data, (data.shape[0], IMG_RES, IMG_RES, 1))\n",
    "labels = np.array(labels)"
   ]
  },
  {
   "cell_type": "code",
   "execution_count": 4,
   "metadata": {},
   "outputs": [],
   "source": [
    "lb = LabelBinarizer()\n",
    "labels = lb.fit_transform(labels)\n",
    "labels = to_categorical(labels)\n",
    "\n",
    "data = np.array(data, dtype=\"float32\")\n",
    "labels = np.array(labels)\n",
    "\n",
    "X_train, X_test, y_train, y_test = train_test_split(data, labels, \n",
    "                                                    test_size=0.25, \n",
    "                                                    stratify=labels, \n",
    "                                                    random_state=42)"
   ]
  },
  {
   "cell_type": "code",
   "execution_count": 5,
   "metadata": {},
   "outputs": [
    {
     "name": "stdout",
     "output_type": "stream",
     "text": [
      "Model: \"sequential\"\n",
      "_________________________________________________________________\n",
      "Layer (type)                 Output Shape              Param #   \n",
      "=================================================================\n",
      "conv2d (Conv2D)              (None, 126, 126, 200)     2000      \n",
      "_________________________________________________________________\n",
      "activation (Activation)      (None, 126, 126, 200)     0         \n",
      "_________________________________________________________________\n",
      "max_pooling2d (MaxPooling2D) (None, 63, 63, 200)       0         \n",
      "_________________________________________________________________\n",
      "conv2d_1 (Conv2D)            (None, 61, 61, 100)       180100    \n",
      "_________________________________________________________________\n",
      "activation_1 (Activation)    (None, 61, 61, 100)       0         \n",
      "_________________________________________________________________\n",
      "max_pooling2d_1 (MaxPooling2 (None, 30, 30, 100)       0         \n",
      "_________________________________________________________________\n",
      "flatten (Flatten)            (None, 90000)             0         \n",
      "_________________________________________________________________\n",
      "dropout (Dropout)            (None, 90000)             0         \n",
      "_________________________________________________________________\n",
      "dense (Dense)                (None, 50)                4500050   \n",
      "_________________________________________________________________\n",
      "dense_1 (Dense)              (None, 2)                 102       \n",
      "=================================================================\n",
      "Total params: 4,682,252\n",
      "Trainable params: 4,682,252\n",
      "Non-trainable params: 0\n",
      "_________________________________________________________________\n"
     ]
    }
   ],
   "source": [
    "model=Sequential()\n",
    "\n",
    "model.add(Conv2D(200, (3, 3), input_shape=(IMG_RES, IMG_RES, 1)))\n",
    "model.add(Activation('relu'))\n",
    "model.add(MaxPooling2D(pool_size=(2, 2)))\n",
    "\n",
    "model.add(Conv2D(100, (3, 3)))\n",
    "model.add(Activation('relu'))\n",
    "model.add(MaxPooling2D(pool_size=(2, 2)))\n",
    "\n",
    "model.add(Flatten())\n",
    "model.add(Dropout(0.5))\n",
    "model.add(Dense(50, activation='relu'))\n",
    "model.add(Dense(2, activation='softmax'))\n",
    "\n",
    "opt = Adam(lr=INIT_LR, decay=INIT_LR / EPOCHS)\n",
    "model.compile(loss=\"binary_crossentropy\", optimizer=opt, metrics=[\"acc\"])\n",
    "model.summary()"
   ]
  },
  {
   "cell_type": "code",
   "execution_count": 6,
   "metadata": {},
   "outputs": [],
   "source": [
    "augs_test = ImageDataGenerator()\n",
    "augs_train = ImageDataGenerator(zoom_range=0.15,\n",
    "                                shear_range=0.15,\n",
    "                                rotation_range=20,\n",
    "                                fill_mode=\"nearest\",\n",
    "                                horizontal_flip=True,\n",
    "                                width_shift_range=0.2,\n",
    "                                height_shift_range=0.2)"
   ]
  },
  {
   "cell_type": "code",
   "execution_count": 7,
   "metadata": {},
   "outputs": [
    {
     "name": "stdout",
     "output_type": "stream",
     "text": [
      "Epoch 1/20\n",
      "107/107 [==============================] - 14s 91ms/step - loss: 0.6764 - acc: 0.5758 - val_loss: 0.6642 - val_acc: 0.5810\n",
      "Epoch 2/20\n",
      "107/107 [==============================] - 8s 75ms/step - loss: 0.6542 - acc: 0.5923 - val_loss: 0.6544 - val_acc: 0.5880\n",
      "Epoch 3/20\n",
      "107/107 [==============================] - 8s 75ms/step - loss: 0.6314 - acc: 0.6295 - val_loss: 0.6072 - val_acc: 0.6479\n",
      "Epoch 4/20\n",
      "107/107 [==============================] - 8s 75ms/step - loss: 0.6097 - acc: 0.6818 - val_loss: 0.5505 - val_acc: 0.7790\n",
      "Epoch 5/20\n",
      "107/107 [==============================] - 8s 76ms/step - loss: 0.5541 - acc: 0.7229 - val_loss: 0.4684 - val_acc: 0.8134\n",
      "Epoch 6/20\n",
      "107/107 [==============================] - 8s 76ms/step - loss: 0.4999 - acc: 0.7747 - val_loss: 0.4098 - val_acc: 0.8407\n",
      "Epoch 7/20\n",
      "107/107 [==============================] - 8s 76ms/step - loss: 0.4645 - acc: 0.7875 - val_loss: 0.3995 - val_acc: 0.8424\n",
      "Epoch 8/20\n",
      "107/107 [==============================] - 8s 76ms/step - loss: 0.4221 - acc: 0.8221 - val_loss: 0.3183 - val_acc: 0.8803\n",
      "Epoch 9/20\n",
      "107/107 [==============================] - 8s 76ms/step - loss: 0.3994 - acc: 0.8287 - val_loss: 0.3105 - val_acc: 0.8768\n",
      "Epoch 10/20\n",
      "107/107 [==============================] - 8s 76ms/step - loss: 0.4087 - acc: 0.8247 - val_loss: 0.2979 - val_acc: 0.8820\n",
      "Epoch 11/20\n",
      "107/107 [==============================] - 8s 76ms/step - loss: 0.3925 - acc: 0.8204 - val_loss: 0.2942 - val_acc: 0.8856\n",
      "Epoch 12/20\n",
      "107/107 [==============================] - 8s 76ms/step - loss: 0.3695 - acc: 0.8464 - val_loss: 0.3381 - val_acc: 0.8451\n",
      "Epoch 13/20\n",
      "107/107 [==============================] - 8s 76ms/step - loss: 0.3764 - acc: 0.8434 - val_loss: 0.2561 - val_acc: 0.9014\n",
      "Epoch 14/20\n",
      "107/107 [==============================] - 8s 76ms/step - loss: 0.3334 - acc: 0.8612 - val_loss: 0.2485 - val_acc: 0.9023\n",
      "Epoch 15/20\n",
      "107/107 [==============================] - 8s 76ms/step - loss: 0.3501 - acc: 0.8492 - val_loss: 0.2436 - val_acc: 0.9102\n",
      "Epoch 16/20\n",
      "107/107 [==============================] - 8s 76ms/step - loss: 0.3170 - acc: 0.8624 - val_loss: 0.2385 - val_acc: 0.9155\n",
      "Epoch 17/20\n",
      "107/107 [==============================] - 8s 76ms/step - loss: 0.3295 - acc: 0.8628 - val_loss: 0.2393 - val_acc: 0.9146\n",
      "Epoch 18/20\n",
      "107/107 [==============================] - 8s 76ms/step - loss: 0.3049 - acc: 0.8731 - val_loss: 0.2201 - val_acc: 0.9155\n",
      "Epoch 19/20\n",
      "107/107 [==============================] - 8s 76ms/step - loss: 0.3223 - acc: 0.8637 - val_loss: 0.2275 - val_acc: 0.9129\n",
      "Epoch 20/20\n",
      "107/107 [==============================] - 8s 76ms/step - loss: 0.3310 - acc: 0.8563 - val_loss: 0.2162 - val_acc: 0.9137\n"
     ]
    }
   ],
   "source": [
    "checkpoint = ModelCheckpoint('./mask_detector/model.h5',\n",
    "                             save_best_only=True,\n",
    "                             monitor='val_loss',\n",
    "                             mode='auto',\n",
    "                             verbose=0)\n",
    "    \n",
    "history = model.fit(augs_train.flow(X_train, y_train, batch_size=BS),\n",
    "                    validation_data=augs_test.flow(X_test, y_test, batch_size=BS),\n",
    "                    callbacks=[checkpoint],\n",
    "                    epochs=EPOCHS)"
   ]
  },
  {
   "cell_type": "code",
   "execution_count": 8,
   "metadata": {},
   "outputs": [
    {
     "name": "stdout",
     "output_type": "stream",
     "text": [
      "              precision    recall  f1-score   support\n",
      "\n",
      "        Mask       0.96      0.89      0.92       652\n",
      "     No_Mask       0.86      0.95      0.90       484\n",
      "\n",
      "    accuracy                           0.91      1136\n",
      "   macro avg       0.91      0.92      0.91      1136\n",
      "weighted avg       0.92      0.91      0.91      1136\n",
      "\n"
     ]
    }
   ],
   "source": [
    "preds = model.predict(X_test, batch_size=BS)\n",
    "preds = np.argmax(preds, axis=1)\n",
    "print(classification_report(y_test.argmax(axis=1), preds, target_names=lb.classes_))"
   ]
  },
  {
   "cell_type": "code",
   "execution_count": 9,
   "metadata": {},
   "outputs": [
    {
     "data": {
      "image/png": "[encoded data removed]",
      "text/plain": [
       "<Figure size 432x288 with 1 Axes>"
      ]
     },
     "metadata": {},
     "output_type": "display_data"
    }
   ],
   "source": [
    "plt.style.use(\"ggplot\")\n",
    "plt.figure()\n",
    "plt.plot(np.arange(0, EPOCHS), history.history[\"loss\"], label=\"train_loss\")\n",
    "plt.plot(np.arange(0, EPOCHS), history.history[\"val_loss\"], label=\"val_loss\")\n",
    "plt.plot(np.arange(0, EPOCHS), history.history[\"acc\"], label=\"train_acc\")\n",
    "plt.plot(np.arange(0, EPOCHS), history.history[\"val_acc\"], label=\"val_acc\")\n",
    "plt.title(\"Training Loss and Accuracy\")\n",
    "plt.xlabel(\"Epoch #\")\n",
    "plt.ylabel(\"Loss/Accuracy\")\n",
    "plt.legend(loc=\"lower left\")\n",
    "plt.show()"
   ]
  },
  {
   "cell_type": "code",
   "execution_count": null,
   "metadata": {},
   "outputs": [],
   "source": []
  }
 ],
 "metadata": {
  "kernelspec": {
   "display_name": "Mask Detector",
   "language": "python",
   "name": "mask"
  },
  "language_info": {
   "codemirror_mode": {
    "name": "ipython",
    "version": 3
   },
   "file_extension": ".py",
   "mimetype": "text/x-python",
   "name": "python",
   "nbconvert_exporter": "python",
   "pygments_lexer": "ipython3",
   "version": "3.8.0"
  }
 },
 "nbformat": 4,
 "nbformat_minor": 5
}
